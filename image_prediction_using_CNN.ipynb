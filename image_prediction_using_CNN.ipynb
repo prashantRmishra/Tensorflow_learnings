{
  "nbformat": 4,
  "nbformat_minor": 0,
  "metadata": {
    "colab": {
      "name": "image_prediction_using_CNN.ipynb",
      "version": "0.3.2",
      "provenance": [],
      "include_colab_link": true
    },
    "kernelspec": {
      "name": "python3",
      "display_name": "Python 3"
    }
  },
  "cells": [
    {
      "cell_type": "markdown",
      "metadata": {
        "id": "view-in-github",
        "colab_type": "text"
      },
      "source": [
        "<a href=\"https://colab.research.google.com/github/prashantRmishra/Tensorflow_learnings/blob/master/image_prediction_using_CNN.ipynb\" target=\"_parent\"><img src=\"https://colab.research.google.com/assets/colab-badge.svg\" alt=\"Open In Colab\"/></a>"
      ]
    },
    {
      "metadata": {
        "id": "lb6SRUCf8LTO",
        "colab_type": "code",
        "outputId": "66410c9a-4caf-4ba7-c0e7-6956df761346",
        "colab": {
          "base_uri": "https://localhost:8080/",
          "height": 35
        }
      },
      "cell_type": "code",
      "source": [
        "import keras\n",
        "from keras.datasets import mnist\n",
        "from keras.models import Sequential\n",
        "from keras.layers import Dense, Dropout, Conv2D, MaxPooling2D, Flatten\n",
        "from keras.optimizers import RMSprop"
      ],
      "execution_count": 0,
      "outputs": [
        {
          "output_type": "stream",
          "text": [
            "Using TensorFlow backend.\n"
          ],
          "name": "stderr"
        }
      ]
    },
    {
      "metadata": {
        "id": "aE_jRTFECgd9",
        "colab_type": "code",
        "outputId": "a424b886-5896-4e0b-8811-e341c7ca4a2e",
        "colab": {
          "base_uri": "https://localhost:8080/",
          "height": 52
        }
      },
      "cell_type": "code",
      "source": [
        "(mnist_train_images,mnist_train_labels),(mnist_test_images,mnist_test_labels)=mnist.load_data()"
      ],
      "execution_count": 0,
      "outputs": [
        {
          "output_type": "stream",
          "text": [
            "Downloading data from https://s3.amazonaws.com/img-datasets/mnist.npz\n",
            "11493376/11490434 [==============================] - 1s 0us/step\n"
          ],
          "name": "stdout"
        }
      ]
    },
    {
      "metadata": {
        "id": "xtZdthgVDzVs",
        "colab_type": "text"
      },
      "cell_type": "markdown",
      "source": [
        "lets format the train and test images and labels"
      ]
    },
    {
      "metadata": {
        "id": "R-pkFrVUEArE",
        "colab_type": "text"
      },
      "cell_type": "markdown",
      "source": [
        "we are using 2d images instead of flattened 1d array og 784 values ,so format may be 1,28,28 or 28,28,1 where 1 is for gray scale images or it could have been 3 for rgb."
      ]
    },
    {
      "metadata": {
        "id": "5fPn2vdeERf7",
        "colab_type": "code",
        "colab": {}
      },
      "cell_type": "code",
      "source": [
        "from keras import backend as K\n"
      ],
      "execution_count": 0,
      "outputs": []
    },
    {
      "metadata": {
        "id": "Xqwl9b8rD4L-",
        "colab_type": "code",
        "colab": {}
      },
      "cell_type": "code",
      "source": [
        "if K.image_data_format()=='channels_first':\n",
        "  train_image=mnist_train_images.reshape(mnist_train_images.shape[0],1,28,28)\n",
        "  test_image=mnist_test_images.reshape(mnist_test_images.shape[0],1,28,28)\n",
        "  input_shape=(1,28,28)\n",
        "else:\n",
        "  train_image=mnist_train_images.reshape(mnist_train_images.shape[0],28,28,1)\n",
        "  test_image=mnist_test_images.reshape(mnist_test_images.shape[0],28,28,1)\n",
        "  input_shape=(28,28,1)\n",
        "\n",
        "train_image=train_image.astype('float32')\n",
        "test_image=test_image.astype('float32')\n",
        "train_image/=255\n",
        "test_image/=255\n",
        "  "
      ],
      "execution_count": 0,
      "outputs": []
    },
    {
      "metadata": {
        "id": "SUOSHCZ6GafR",
        "colab_type": "text"
      },
      "cell_type": "markdown",
      "source": [
        "we have to modify labels as well in 1d array of 10 pixels"
      ]
    },
    {
      "metadata": {
        "id": "BvNEeMp5Gi8c",
        "colab_type": "code",
        "colab": {}
      },
      "cell_type": "code",
      "source": [
        "train_label=keras.utils.to_categorical(mnist_train_labels,10)\n",
        "test_label=keras.utils.to_categorical(mnist_test_labels,10)"
      ],
      "execution_count": 0,
      "outputs": []
    },
    {
      "metadata": {
        "id": "lO7ZVEUIG-bf",
        "colab_type": "text"
      },
      "cell_type": "markdown",
      "source": [
        "lets define functions to prind and visualize our data in 2d "
      ]
    },
    {
      "metadata": {
        "id": "ha0i5SHsHFFE",
        "colab_type": "code",
        "outputId": "896fd48a-9e4b-4874-9cb4-4b2f884581e3",
        "colab": {
          "base_uri": "https://localhost:8080/",
          "height": 380
        }
      },
      "cell_type": "code",
      "source": [
        "import matplotlib.pyplot as plt\n",
        "\n",
        "def display_function(num):\n",
        "  print(train_label[num])\n",
        "  label=train_label[num].argmax(axis=0)\n",
        "  image=train_image[num].reshape(28,28)\n",
        "  plt.title('sample %d and label %d :' %(num,label))\n",
        "  plt.imshow(image)\n",
        "  plt.show()\n",
        "  \n",
        "display_function(12)  "
      ],
      "execution_count": 0,
      "outputs": [
        {
          "output_type": "stream",
          "text": [
            "[0. 0. 0. 1. 0. 0. 0. 0. 0. 0.]\n"
          ],
          "name": "stdout"
        },
        {
          "output_type": "display_data",
          "data": {
            "image/png": "[encoded data removed]",
            "text/plain": [
              "<matplotlib.figure.Figure at 0x7fec54729eb8>"
            ]
          },
          "metadata": {
            "tags": []
          }
        }
      ]
    },
    {
      "metadata": {
        "id": "jdvufZ4tDaku",
        "colab_type": "code",
        "colab": {}
      },
      "cell_type": "code",
      "source": [
        ""
      ],
      "execution_count": 0,
      "outputs": []
    },
    {
      "metadata": {
        "id": "bSRH0zazIT8i",
        "colab_type": "text"
      },
      "cell_type": "markdown",
      "source": [
        "here comes the hot part of creating our cnn.\n",
        "hers we feed 32 window input of kernel size 3x3 in 1st layer of perseptron then in second hidden layer we feed 64 window with kernel size 3x3 then again in 3rd hidden layer we reduce the size of kernel to 2x2 for reducing the data size and focusing on more imp details. We add droupout layer to avoid overfitting then we flatten out input to 128 pixel 1d array which is then passed through final hiddel layer to give output to final 10 neurons which gives the label for evaluating the model."
      ]
    },
    {
      "metadata": {
        "id": "jMcIobg7Mq0i",
        "colab_type": "code",
        "colab": {}
      },
      "cell_type": "code",
      "source": [
        "model=Sequential()\n",
        "model.add(Conv2D(32,kernel_size=(3,3),activation='relu',input_shape=input_shape))\n",
        "model.add(Conv2D(66,(3,3),activation='relu'))\n",
        "model.add(MaxPooling2D(pool_size=(2,2)))\n",
        "model.add(Dropout(0.22))\n",
        "model.add(Flatten())\n",
        "model.add(Dense(128,activation='relu'))\n",
        "model.add(Dropout(0.22))\n",
        "model.add(Dense(10,activation='softmax'))\n"
      ],
      "execution_count": 0,
      "outputs": []
    },
    {
      "metadata": {
        "id": "4Wkh0NgAPLRe",
        "colab_type": "text"
      },
      "cell_type": "markdown",
      "source": [
        "lets compile our model"
      ]
    },
    {
      "metadata": {
        "id": "Wjtjd-xjPTLR",
        "colab_type": "code",
        "colab": {}
      },
      "cell_type": "code",
      "source": [
        "model.compile(loss='categorical_crossentropy',optimizer='RMSprop',metrics=['accuracy'])"
      ],
      "execution_count": 0,
      "outputs": []
    },
    {
      "metadata": {
        "id": "fnRUbXeIPuWQ",
        "colab_type": "text"
      },
      "cell_type": "markdown",
      "source": [
        "now lets fit data to our model"
      ]
    },
    {
      "metadata": {
        "id": "tTfnAPsOcP_9",
        "colab_type": "code",
        "outputId": "f9dfd50b-bcb6-4fa4-a2eb-79723104bfb4",
        "colab": {
          "base_uri": "https://localhost:8080/",
          "height": 390
        }
      },
      "cell_type": "code",
      "source": [
        "history=model.fit(train_image,train_label,batch_size=32,epochs=10,verbose=2,validation_data=(test_image,test_label))"
      ],
      "execution_count": 0,
      "outputs": [
        {
          "output_type": "stream",
          "text": [
            "Train on 60000 samples, validate on 10000 samples\n",
            "Epoch 1/10\n",
            " - 197s - loss: 0.1301 - acc: 0.9602 - val_loss: 0.0467 - val_acc: 0.9850\n",
            "Epoch 2/10\n",
            " - 193s - loss: 0.0575 - acc: 0.9829 - val_loss: 0.0367 - val_acc: 0.9863\n",
            "Epoch 3/10\n",
            " - 199s - loss: 0.0490 - acc: 0.9859 - val_loss: 0.0370 - val_acc: 0.9882\n",
            "Epoch 4/10\n",
            " - 202s - loss: 0.0438 - acc: 0.9871 - val_loss: 0.0759 - val_acc: 0.9816\n",
            "Epoch 5/10\n",
            " - 201s - loss: 0.0435 - acc: 0.9871 - val_loss: 0.0362 - val_acc: 0.9898\n",
            "Epoch 6/10\n",
            " - 192s - loss: 0.0434 - acc: 0.9872 - val_loss: 0.0467 - val_acc: 0.9867\n",
            "Epoch 7/10\n",
            " - 192s - loss: 0.0444 - acc: 0.9875 - val_loss: 0.0517 - val_acc: 0.9861\n",
            "Epoch 8/10\n",
            " - 201s - loss: 0.0464 - acc: 0.9872 - val_loss: 0.0442 - val_acc: 0.9880\n",
            "Epoch 9/10\n",
            " - 206s - loss: 0.0494 - acc: 0.9873 - val_loss: 0.0432 - val_acc: 0.9879\n",
            "Epoch 10/10\n",
            " - 201s - loss: 0.0475 - acc: 0.9871 - val_loss: 0.0537 - val_acc: 0.9877\n"
          ],
          "name": "stdout"
        }
      ]
    },
    {
      "metadata": {
        "id": "7pWSpp55lRXp",
        "colab_type": "code",
        "colab": {}
      },
      "cell_type": "code",
      "source": [
        "score=model.evaluate(test_image,test_label,verbose=0)"
      ],
      "execution_count": 0,
      "outputs": []
    },
    {
      "metadata": {
        "id": "1n3QjAsmlka-",
        "colab_type": "code",
        "outputId": "d67f3e56-221c-4d9c-fc01-7a8978a124dd",
        "colab": {
          "base_uri": "https://localhost:8080/",
          "height": 52
        }
      },
      "cell_type": "code",
      "source": [
        "print('loss: ',(score[0]))\n",
        "print('accuracy: ',(score[1]))"
      ],
      "execution_count": 0,
      "outputs": [
        {
          "output_type": "stream",
          "text": [
            "loss:  0.053672468895225846\n",
            "accuracy:  0.9877\n"
          ],
          "name": "stdout"
        }
      ]
    }
  ]
}